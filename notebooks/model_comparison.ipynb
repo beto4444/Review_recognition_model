{
 "cells": [
  {
   "cell_type": "markdown",
   "metadata": {},
   "source": [
    "Here will be compared combination of:\n",
    "tokenization vs lemmatization and\n",
    "TF-IDF vs bag-of words"
   ]
  },
  {
   "cell_type": "code",
   "execution_count": 50,
   "metadata": {},
   "outputs": [],
   "source": [
    "import pandas as pd\n",
    "import numpy as np"
   ]
  },
  {
   "cell_type": "code",
   "execution_count": 51,
   "metadata": {},
   "outputs": [],
   "source": [
    "# Load the data\n",
    "\n",
    "train_l = pd.read_csv('../data/processed/train_lemmatized.csv')\n",
    "train_s = pd.read_csv('../data/processed/train_stemed.csv')"
   ]
  },
  {
   "cell_type": "code",
   "execution_count": 52,
   "metadata": {},
   "outputs": [],
   "source": [
    "from sklearn.feature_extraction.text import TfidfVectorizer\n",
    "from sklearn.feature_extraction.text import CountVectorizer\n"
   ]
  },
  {
   "cell_type": "code",
   "execution_count": 53,
   "metadata": {},
   "outputs": [],
   "source": [
    "l_tf = TfidfVectorizer(max_features=5000, min_df = 5, max_df = 0.7).fit_transform(train_l['review'])\n",
    "s_tf = TfidfVectorizer(max_features=5000, min_df = 5, max_df = 0.7).fit_transform(train_s['review'])\n",
    "\n",
    "l_bow = CountVectorizer(max_features=5000, min_df = 5, max_df = 0.7).fit_transform(train_l['review'])\n",
    "s_bow = CountVectorizer(max_features=5000, min_df = 5, max_df = 0.7).fit_transform(train_s['review'])"
   ]
  },
  {
   "cell_type": "code",
   "execution_count": 54,
   "metadata": {},
   "outputs": [],
   "source": [
    "from sklearn.model_selection import train_test_split\n",
    "l_bow_train, l_bow_test, y_l_bow_train, y_l_bow_test = train_test_split(l_bow, train_l['sentiment'], test_size=0.2, random_state=42)\n",
    "s_bow_train, s_bow_test, y_s_bow_train, y_s_bow_test = train_test_split(s_bow, train_s['sentiment'], test_size=0.2, random_state=42)\n",
    "\n",
    "l_tf_train, l_tf_test, y_l_tf_train, y_l_tf_test = train_test_split(l_tf, train_l['sentiment'], test_size=0.2, random_state=42)\n",
    "s_tf_train, s_tf_test, y_s_tf_train, y_s_tf_test = train_test_split(s_tf, train_s['sentiment'], test_size=0.2, random_state=42)"
   ]
  },
  {
   "cell_type": "code",
   "execution_count": 55,
   "metadata": {},
   "outputs": [],
   "source": [
    "from sklearn.ensemble import RandomForestClassifier\n",
    "\n",
    "l_bow_clf = RandomForestClassifier(n_estimators=100, random_state=42)\n",
    "s_bow_clf = RandomForestClassifier(n_estimators=100, random_state=42)\n",
    "\n",
    "l_tf_clf = RandomForestClassifier(n_estimators=100, random_state=42)\n",
    "s_tf_clf = RandomForestClassifier(n_estimators=100, random_state=42)"
   ]
  },
  {
   "cell_type": "code",
   "execution_count": 56,
   "metadata": {},
   "outputs": [
    {
     "data": {
      "text/html": [
       "<style>#sk-container-id-2 {color: black;}#sk-container-id-2 pre{padding: 0;}#sk-container-id-2 div.sk-toggleable {background-color: white;}#sk-container-id-2 label.sk-toggleable__label {cursor: pointer;display: block;width: 100%;margin-bottom: 0;padding: 0.3em;box-sizing: border-box;text-align: center;}#sk-container-id-2 label.sk-toggleable__label-arrow:before {content: \"▸\";float: left;margin-right: 0.25em;color: #696969;}#sk-container-id-2 label.sk-toggleable__label-arrow:hover:before {color: black;}#sk-container-id-2 div.sk-estimator:hover label.sk-toggleable__label-arrow:before {color: black;}#sk-container-id-2 div.sk-toggleable__content {max-height: 0;max-width: 0;overflow: hidden;text-align: left;background-color: #f0f8ff;}#sk-container-id-2 div.sk-toggleable__content pre {margin: 0.2em;color: black;border-radius: 0.25em;background-color: #f0f8ff;}#sk-container-id-2 input.sk-toggleable__control:checked~div.sk-toggleable__content {max-height: 200px;max-width: 100%;overflow: auto;}#sk-container-id-2 input.sk-toggleable__control:checked~label.sk-toggleable__label-arrow:before {content: \"▾\";}#sk-container-id-2 div.sk-estimator input.sk-toggleable__control:checked~label.sk-toggleable__label {background-color: #d4ebff;}#sk-container-id-2 div.sk-label input.sk-toggleable__control:checked~label.sk-toggleable__label {background-color: #d4ebff;}#sk-container-id-2 input.sk-hidden--visually {border: 0;clip: rect(1px 1px 1px 1px);clip: rect(1px, 1px, 1px, 1px);height: 1px;margin: -1px;overflow: hidden;padding: 0;position: absolute;width: 1px;}#sk-container-id-2 div.sk-estimator {font-family: monospace;background-color: #f0f8ff;border: 1px dotted black;border-radius: 0.25em;box-sizing: border-box;margin-bottom: 0.5em;}#sk-container-id-2 div.sk-estimator:hover {background-color: #d4ebff;}#sk-container-id-2 div.sk-parallel-item::after {content: \"\";width: 100%;border-bottom: 1px solid gray;flex-grow: 1;}#sk-container-id-2 div.sk-label:hover label.sk-toggleable__label {background-color: #d4ebff;}#sk-container-id-2 div.sk-serial::before {content: \"\";position: absolute;border-left: 1px solid gray;box-sizing: border-box;top: 0;bottom: 0;left: 50%;z-index: 0;}#sk-container-id-2 div.sk-serial {display: flex;flex-direction: column;align-items: center;background-color: white;padding-right: 0.2em;padding-left: 0.2em;position: relative;}#sk-container-id-2 div.sk-item {position: relative;z-index: 1;}#sk-container-id-2 div.sk-parallel {display: flex;align-items: stretch;justify-content: center;background-color: white;position: relative;}#sk-container-id-2 div.sk-item::before, #sk-container-id-2 div.sk-parallel-item::before {content: \"\";position: absolute;border-left: 1px solid gray;box-sizing: border-box;top: 0;bottom: 0;left: 50%;z-index: -1;}#sk-container-id-2 div.sk-parallel-item {display: flex;flex-direction: column;z-index: 1;position: relative;background-color: white;}#sk-container-id-2 div.sk-parallel-item:first-child::after {align-self: flex-end;width: 50%;}#sk-container-id-2 div.sk-parallel-item:last-child::after {align-self: flex-start;width: 50%;}#sk-container-id-2 div.sk-parallel-item:only-child::after {width: 0;}#sk-container-id-2 div.sk-dashed-wrapped {border: 1px dashed gray;margin: 0 0.4em 0.5em 0.4em;box-sizing: border-box;padding-bottom: 0.4em;background-color: white;}#sk-container-id-2 div.sk-label label {font-family: monospace;font-weight: bold;display: inline-block;line-height: 1.2em;}#sk-container-id-2 div.sk-label-container {text-align: center;}#sk-container-id-2 div.sk-container {/* jupyter's `normalize.less` sets `[hidden] { display: none; }` but bootstrap.min.css set `[hidden] { display: none !important; }` so we also need the `!important` here to be able to override the default hidden behavior on the sphinx rendered scikit-learn.org. See: https://github.com/scikit-learn/scikit-learn/issues/21755 */display: inline-block !important;position: relative;}#sk-container-id-2 div.sk-text-repr-fallback {display: none;}</style><div id=\"sk-container-id-2\" class=\"sk-top-container\"><div class=\"sk-text-repr-fallback\"><pre>RandomForestClassifier(random_state=42)</pre><b>In a Jupyter environment, please rerun this cell to show the HTML representation or trust the notebook. <br />On GitHub, the HTML representation is unable to render, please try loading this page with nbviewer.org.</b></div><div class=\"sk-container\" hidden><div class=\"sk-item\"><div class=\"sk-estimator sk-toggleable\"><input class=\"sk-toggleable__control sk-hidden--visually\" id=\"sk-estimator-id-2\" type=\"checkbox\" checked><label for=\"sk-estimator-id-2\" class=\"sk-toggleable__label sk-toggleable__label-arrow\">RandomForestClassifier</label><div class=\"sk-toggleable__content\"><pre>RandomForestClassifier(random_state=42)</pre></div></div></div></div></div>"
      ],
      "text/plain": [
       "RandomForestClassifier(random_state=42)"
      ]
     },
     "execution_count": 56,
     "metadata": {},
     "output_type": "execute_result"
    }
   ],
   "source": [
    "\n",
    "l_bow_clf.fit(l_bow_train, y_l_bow_train)\n",
    "s_bow_clf.fit(s_bow_train, y_s_bow_train)\n",
    "\n",
    "l_tf_clf.fit(l_tf_train, y_l_tf_train)\n",
    "s_tf_clf.fit(s_tf_train, y_s_tf_train)\n"
   ]
  },
  {
   "cell_type": "code",
   "execution_count": 57,
   "metadata": {},
   "outputs": [],
   "source": [
    "\n",
    "l_bow_clf_pred = l_bow_clf.predict(l_bow_test)\n",
    "s_bow_clf_pred = s_bow_clf.predict(s_bow_test)\n",
    "\n",
    "l_tf_clf_pred = l_tf_clf.predict(l_tf_test)\n",
    "s_tf_clf_pred = s_tf_clf.predict(s_tf_test)\n"
   ]
  },
  {
   "cell_type": "code",
   "execution_count": 58,
   "metadata": {},
   "outputs": [],
   "source": [
    "\n",
    "from sklearn.metrics import accuracy_score\n",
    "l_bow_clf_acc = accuracy_score(y_l_bow_test, l_bow_clf_pred)\n",
    "s_bow_clf_acc = accuracy_score(y_s_bow_test, s_bow_clf_pred)\n",
    "\n",
    "l_tf_clf_acc = accuracy_score(y_l_tf_test, l_tf_clf_pred)\n",
    "s_tf_clf_acc = accuracy_score(y_s_tf_test, s_tf_clf_pred)\n"
   ]
  },
  {
   "cell_type": "code",
   "execution_count": 59,
   "metadata": {},
   "outputs": [
    {
     "name": "stdout",
     "output_type": "stream",
     "text": [
      "Lemmatized BOW Accuracy:  0.83975\n",
      "Stemmed BOW Accuracy:  0.83975\n",
      "Lemmatized TF-IDF Accuracy:  0.84675\n",
      "Stemmed TF-IDF Accuracy:  0.84675\n"
     ]
    }
   ],
   "source": [
    "\n",
    "print('Lemmatized BOW Accuracy: ', l_bow_clf_acc)\n",
    "print('Stemmed BOW Accuracy: ', s_bow_clf_acc)\n",
    "\n",
    "print('Lemmatized TF-IDF Accuracy: ', l_tf_clf_acc)\n",
    "print('Stemmed TF-IDF Accuracy: ', s_tf_clf_acc)\n"
   ]
  },
  {
   "cell_type": "code",
   "execution_count": 60,
   "metadata": {},
   "outputs": [],
   "source": [
    "from sklearn.linear_model import LogisticRegression\n",
    "\n",
    "l_bow_clf_reg = LogisticRegression(random_state=42)\n",
    "s_bow_clf_reg = LogisticRegression(random_state=42)\n",
    "\n",
    "l_tf_clf_reg = LogisticRegression(random_state=42)\n",
    "s_tf_clf_reg = LogisticRegression(random_state=42)"
   ]
  },
  {
   "cell_type": "code",
   "execution_count": 61,
   "metadata": {},
   "outputs": [
    {
     "name": "stderr",
     "output_type": "stream",
     "text": [
      "/home/bstepniewski/anaconda3/envs/NLP/lib/python3.11/site-packages/sklearn/linear_model/_logistic.py:460: ConvergenceWarning: lbfgs failed to converge (status=1):\n",
      "STOP: TOTAL NO. of ITERATIONS REACHED LIMIT.\n",
      "\n",
      "Increase the number of iterations (max_iter) or scale the data as shown in:\n",
      "    https://scikit-learn.org/stable/modules/preprocessing.html\n",
      "Please also refer to the documentation for alternative solver options:\n",
      "    https://scikit-learn.org/stable/modules/linear_model.html#logistic-regression\n",
      "  n_iter_i = _check_optimize_result(\n",
      "/home/bstepniewski/anaconda3/envs/NLP/lib/python3.11/site-packages/sklearn/linear_model/_logistic.py:460: ConvergenceWarning: lbfgs failed to converge (status=1):\n",
      "STOP: TOTAL NO. of ITERATIONS REACHED LIMIT.\n",
      "\n",
      "Increase the number of iterations (max_iter) or scale the data as shown in:\n",
      "    https://scikit-learn.org/stable/modules/preprocessing.html\n",
      "Please also refer to the documentation for alternative solver options:\n",
      "    https://scikit-learn.org/stable/modules/linear_model.html#logistic-regression\n",
      "  n_iter_i = _check_optimize_result(\n"
     ]
    },
    {
     "data": {
      "text/html": [
       "<style>#sk-container-id-3 {color: black;}#sk-container-id-3 pre{padding: 0;}#sk-container-id-3 div.sk-toggleable {background-color: white;}#sk-container-id-3 label.sk-toggleable__label {cursor: pointer;display: block;width: 100%;margin-bottom: 0;padding: 0.3em;box-sizing: border-box;text-align: center;}#sk-container-id-3 label.sk-toggleable__label-arrow:before {content: \"▸\";float: left;margin-right: 0.25em;color: #696969;}#sk-container-id-3 label.sk-toggleable__label-arrow:hover:before {color: black;}#sk-container-id-3 div.sk-estimator:hover label.sk-toggleable__label-arrow:before {color: black;}#sk-container-id-3 div.sk-toggleable__content {max-height: 0;max-width: 0;overflow: hidden;text-align: left;background-color: #f0f8ff;}#sk-container-id-3 div.sk-toggleable__content pre {margin: 0.2em;color: black;border-radius: 0.25em;background-color: #f0f8ff;}#sk-container-id-3 input.sk-toggleable__control:checked~div.sk-toggleable__content {max-height: 200px;max-width: 100%;overflow: auto;}#sk-container-id-3 input.sk-toggleable__control:checked~label.sk-toggleable__label-arrow:before {content: \"▾\";}#sk-container-id-3 div.sk-estimator input.sk-toggleable__control:checked~label.sk-toggleable__label {background-color: #d4ebff;}#sk-container-id-3 div.sk-label input.sk-toggleable__control:checked~label.sk-toggleable__label {background-color: #d4ebff;}#sk-container-id-3 input.sk-hidden--visually {border: 0;clip: rect(1px 1px 1px 1px);clip: rect(1px, 1px, 1px, 1px);height: 1px;margin: -1px;overflow: hidden;padding: 0;position: absolute;width: 1px;}#sk-container-id-3 div.sk-estimator {font-family: monospace;background-color: #f0f8ff;border: 1px dotted black;border-radius: 0.25em;box-sizing: border-box;margin-bottom: 0.5em;}#sk-container-id-3 div.sk-estimator:hover {background-color: #d4ebff;}#sk-container-id-3 div.sk-parallel-item::after {content: \"\";width: 100%;border-bottom: 1px solid gray;flex-grow: 1;}#sk-container-id-3 div.sk-label:hover label.sk-toggleable__label {background-color: #d4ebff;}#sk-container-id-3 div.sk-serial::before {content: \"\";position: absolute;border-left: 1px solid gray;box-sizing: border-box;top: 0;bottom: 0;left: 50%;z-index: 0;}#sk-container-id-3 div.sk-serial {display: flex;flex-direction: column;align-items: center;background-color: white;padding-right: 0.2em;padding-left: 0.2em;position: relative;}#sk-container-id-3 div.sk-item {position: relative;z-index: 1;}#sk-container-id-3 div.sk-parallel {display: flex;align-items: stretch;justify-content: center;background-color: white;position: relative;}#sk-container-id-3 div.sk-item::before, #sk-container-id-3 div.sk-parallel-item::before {content: \"\";position: absolute;border-left: 1px solid gray;box-sizing: border-box;top: 0;bottom: 0;left: 50%;z-index: -1;}#sk-container-id-3 div.sk-parallel-item {display: flex;flex-direction: column;z-index: 1;position: relative;background-color: white;}#sk-container-id-3 div.sk-parallel-item:first-child::after {align-self: flex-end;width: 50%;}#sk-container-id-3 div.sk-parallel-item:last-child::after {align-self: flex-start;width: 50%;}#sk-container-id-3 div.sk-parallel-item:only-child::after {width: 0;}#sk-container-id-3 div.sk-dashed-wrapped {border: 1px dashed gray;margin: 0 0.4em 0.5em 0.4em;box-sizing: border-box;padding-bottom: 0.4em;background-color: white;}#sk-container-id-3 div.sk-label label {font-family: monospace;font-weight: bold;display: inline-block;line-height: 1.2em;}#sk-container-id-3 div.sk-label-container {text-align: center;}#sk-container-id-3 div.sk-container {/* jupyter's `normalize.less` sets `[hidden] { display: none; }` but bootstrap.min.css set `[hidden] { display: none !important; }` so we also need the `!important` here to be able to override the default hidden behavior on the sphinx rendered scikit-learn.org. See: https://github.com/scikit-learn/scikit-learn/issues/21755 */display: inline-block !important;position: relative;}#sk-container-id-3 div.sk-text-repr-fallback {display: none;}</style><div id=\"sk-container-id-3\" class=\"sk-top-container\"><div class=\"sk-text-repr-fallback\"><pre>LogisticRegression(random_state=42)</pre><b>In a Jupyter environment, please rerun this cell to show the HTML representation or trust the notebook. <br />On GitHub, the HTML representation is unable to render, please try loading this page with nbviewer.org.</b></div><div class=\"sk-container\" hidden><div class=\"sk-item\"><div class=\"sk-estimator sk-toggleable\"><input class=\"sk-toggleable__control sk-hidden--visually\" id=\"sk-estimator-id-3\" type=\"checkbox\" checked><label for=\"sk-estimator-id-3\" class=\"sk-toggleable__label sk-toggleable__label-arrow\">LogisticRegression</label><div class=\"sk-toggleable__content\"><pre>LogisticRegression(random_state=42)</pre></div></div></div></div></div>"
      ],
      "text/plain": [
       "LogisticRegression(random_state=42)"
      ]
     },
     "execution_count": 61,
     "metadata": {},
     "output_type": "execute_result"
    }
   ],
   "source": [
    "l_bow_clf_reg.fit(l_bow_train, y_l_bow_train)\n",
    "s_bow_clf_reg.fit(s_bow_train, y_s_bow_train)\n",
    "\n",
    "l_tf_clf_reg.fit(l_tf_train, y_l_tf_train)\n",
    "s_tf_clf_reg.fit(s_tf_train, y_s_tf_train)"
   ]
  },
  {
   "cell_type": "code",
   "execution_count": 62,
   "metadata": {},
   "outputs": [],
   "source": [
    "l_bow_clf_reg_pred = l_bow_clf_reg.predict(l_bow_test)\n",
    "s_bow_clf_reg_pred = s_bow_clf_reg.predict(s_bow_test)\n",
    "\n",
    "l_tf_clf_reg_pred = l_tf_clf_reg.predict(l_tf_test)\n",
    "s_tf_clf_reg_pred = s_tf_clf_reg.predict(s_tf_test)"
   ]
  },
  {
   "cell_type": "code",
   "execution_count": 63,
   "metadata": {},
   "outputs": [],
   "source": [
    "l_bow_clf_reg_acc = accuracy_score(y_l_bow_test, l_bow_clf_reg_pred)\n",
    "s_bow_clf_reg_acc = accuracy_score(y_s_bow_test, s_bow_clf_reg_pred)\n",
    "\n",
    "l_tf_clf_reg_acc = accuracy_score(y_l_tf_test, l_tf_clf_reg_pred)\n",
    "s_tf_clf_reg_acc = accuracy_score(y_s_tf_test, s_tf_clf_reg_pred)"
   ]
  },
  {
   "cell_type": "code",
   "execution_count": 64,
   "metadata": {},
   "outputs": [
    {
     "name": "stdout",
     "output_type": "stream",
     "text": [
      "Lemmatized BOW Logistic Regression Accuracy:  0.8625\n",
      "Stemmed BOW Logistic Regression Accuracy:  0.8625\n",
      "Lemmatized TF-IDF Logistic Regression Accuracy:  0.88275\n",
      "Stemmed TF-IDF Logistic Regression Accuracy:  0.88275\n"
     ]
    }
   ],
   "source": [
    "print('Lemmatized BOW Logistic Regression Accuracy: ', l_bow_clf_reg_acc)\n",
    "print('Stemmed BOW Logistic Regression Accuracy: ', s_bow_clf_reg_acc)\n",
    "\n",
    "print('Lemmatized TF-IDF Logistic Regression Accuracy: ', l_tf_clf_reg_acc)\n",
    "print('Stemmed TF-IDF Logistic Regression Accuracy: ', s_tf_clf_reg_acc)"
   ]
  },
  {
   "cell_type": "code",
   "execution_count": 65,
   "metadata": {},
   "outputs": [],
   "source": [
    "import tensorflow as tf\n",
    "from tensorflow.keras.models import Sequential\n",
    "from tensorflow.keras.layers import Dense, Activation, Dropout"
   ]
  },
  {
   "cell_type": "code",
   "execution_count": 66,
   "metadata": {},
   "outputs": [],
   "source": [
    "class Model:\n",
    "    def __init__(self, input_shape):\n",
    "        self.model = Sequential()\n",
    "        self.model.add(Dense(units=500, input_dim=5000, activation='relu'))\n",
    "        self.model.add(Dropout(0.5))\n",
    "        self.model.add(Dense(units=1, activation='sigmoid'))\n",
    "        self.model.compile(loss='binary_crossentropy', optimizer='adam', metrics=['accuracy'])\n",
    "\n",
    "    def fit(self, X, y, epochs=10, batch_size=128, validation_data=None):\n",
    "        self.model.fit(X, y, epochs=epochs, batch_size=batch_size, validation_data=validation_data)\n",
    "\n",
    "    def predict(self, X):\n",
    "        return self.model.predict(X)"
   ]
  },
  {
   "cell_type": "code",
   "execution_count": 67,
   "metadata": {},
   "outputs": [
    {
     "name": "stdout",
     "output_type": "stream",
     "text": [
      "<class 'scipy.sparse._csr.csr_matrix'> <class 'pandas.core.series.Series'> <class 'scipy.sparse._csr.csr_matrix'> <class 'pandas.core.series.Series'>\n",
      "<class 'scipy.sparse._csr.csr_matrix'> <class 'pandas.core.series.Series'> <class 'scipy.sparse._csr.csr_matrix'> <class 'pandas.core.series.Series'>\n",
      "<class 'scipy.sparse._csr.csr_matrix'> <class 'pandas.core.series.Series'> <class 'scipy.sparse._csr.csr_matrix'> <class 'pandas.core.series.Series'>\n",
      "<class 'scipy.sparse._csr.csr_matrix'> <class 'pandas.core.series.Series'> <class 'scipy.sparse._csr.csr_matrix'> <class 'pandas.core.series.Series'>\n"
     ]
    }
   ],
   "source": [
    "l_bow_clf_nn = Model(l_bow_train.shape[1])\n",
    "s_bow_clf_nn = Model(s_bow_train.shape[1])\n",
    "\n",
    "l_tf_clf_nn = Model(l_tf_train.shape[1])\n",
    "s_tf_clf_nn = Model(s_tf_train.shape[1])\n",
    "\n",
    "\n",
    "print(type(l_bow_train), type(y_l_bow_train), type(l_bow_test), type(y_l_bow_test))\n",
    "print(type(l_tf_train), type(y_l_tf_train), type(l_tf_test), type(y_l_tf_test))\n",
    "print(type(s_bow_train), type(y_s_bow_train), type(s_bow_test), type(y_s_bow_test))\n",
    "print(type(s_tf_train), type(y_s_tf_train), type(s_tf_test), type(y_s_tf_test))"
   ]
  },
  {
   "cell_type": "code",
   "execution_count": null,
   "metadata": {},
   "outputs": [
    {
     "ename": "",
     "evalue": "",
     "output_type": "error",
     "traceback": [
      "\u001b[1;31mThe Kernel crashed while executing code in the the current cell or a previous cell. Please review the code in the cell(s) to identify a possible cause of the failure. Click <a href='https://aka.ms/vscodeJupyterKernelCrash'>here</a> for more info. View Jupyter <a href='command:jupyter.viewOutput'>log</a> for further details."
     ]
    }
   ],
   "source": [
    "l_bow_clf_nn.fit(l_bow_train.toarray(), y_l_bow_train, epochs=5, validation_data=(l_bow_test.toarray(), y_l_bow_test))\n",
    "s_bow_clf_nn.fit(s_bow_train.toarray(), y_s_bow_train, epochs=5, validation_data=(s_bow_test.toarray(), y_s_bow_test))\n",
    "\n",
    "l_tf_clf_nn.fit(l_tf_train.toarray(), y_l_tf_train, epochs=5, validation_data=(l_tf_test.toarray(), y_l_tf_test))\n",
    "s_tf_clf_nn.fit(s_tf_train.toarray(), y_s_tf_train, epochs=5, validation_data=(s_tf_test.toarray(), y_s_tf_test))"
   ]
  },
  {
   "cell_type": "code",
   "execution_count": null,
   "metadata": {},
   "outputs": [
    {
     "name": "stdout",
     "output_type": "stream",
     "text": [
      "250/250 [==============================] - 2s 6ms/step\n",
      "250/250 [==============================] - 2s 7ms/step\n",
      "250/250 [==============================] - 1s 6ms/step\n",
      "250/250 [==============================] - 2s 6ms/step\n"
     ]
    }
   ],
   "source": [
    "l_bow_clf_nn_pred = l_bow_clf_nn.predict(l_bow_test.toarray())\n",
    "s_bow_clf_nn_pred = s_bow_clf_nn.predict(s_bow_test.toarray())\n",
    "\n",
    "l_tf_clf_nn_pred = l_tf_clf_nn.predict(l_tf_test.toarray())\n",
    "s_tf_clf_nn_pred = s_tf_clf_nn.predict(s_tf_test.toarray())\n",
    "\n",
    "l_bow_clf_nn_pred = (l_bow_clf_nn_pred > 0.5).astype(int)\n",
    "s_bow_clf_nn_pred = (s_bow_clf_nn_pred > 0.5).astype(int)\n",
    "\n",
    "l_tf_clf_nn_pred = (l_tf_clf_nn_pred > 0.5).astype(int)\n",
    "s_tf_clf_nn_pred = (s_tf_clf_nn_pred > 0.5).astype(int)"
   ]
  },
  {
   "cell_type": "code",
   "execution_count": null,
   "metadata": {},
   "outputs": [
    {
     "name": "stdout",
     "output_type": "stream",
     "text": [
      "Lemmatized BOW Neural Network Accuracy:  0.8765\n",
      "Stemmed BOW Neural Network Accuracy:  0.877875\n",
      "Lemmatized TF-IDF Neural Network Accuracy:  0.87225\n",
      "Stemmed TF-IDF Neural Network Accuracy:  0.87525\n"
     ]
    }
   ],
   "source": [
    "print('Lemmatized BOW Neural Network Accuracy: ', accuracy_score(y_l_bow_test, l_bow_clf_nn_pred))\n",
    "print('Stemmed BOW Neural Network Accuracy: ', accuracy_score(y_s_bow_test, s_bow_clf_nn_pred))\n",
    "\n",
    "print('Lemmatized TF-IDF Neural Network Accuracy: ', accuracy_score(y_l_tf_test, l_tf_clf_nn_pred))\n",
    "print('Stemmed TF-IDF Neural Network Accuracy: ', accuracy_score(y_s_tf_test, s_tf_clf_nn_pred))"
   ]
  },
  {
   "cell_type": "markdown",
   "metadata": {},
   "source": [
    "Conclusions:<br>\n",
    "-> All three models gives satisfying results<br>\n",
    "-> There is no significant difference between Lemmatized/Stemmed words vectorized with TF-IDF or Bag-of-words method<br>\n",
    "-> Due to that, <b>I select Lemmatized words with TF-IDF encoding because this combination have best results in Logistic Regression classification</b>"
   ]
  },
  {
   "cell_type": "code",
   "execution_count": null,
   "metadata": {},
   "outputs": [],
   "source": []
  }
 ],
 "metadata": {
  "kernelspec": {
   "display_name": "NLP",
   "language": "python",
   "name": "python3"
  },
  "language_info": {
   "codemirror_mode": {
    "name": "ipython",
    "version": 3
   },
   "file_extension": ".py",
   "mimetype": "text/x-python",
   "name": "python",
   "nbconvert_exporter": "python",
   "pygments_lexer": "ipython3",
   "version": "3.1.0"
  }
 },
 "nbformat": 4,
 "nbformat_minor": 2
}
